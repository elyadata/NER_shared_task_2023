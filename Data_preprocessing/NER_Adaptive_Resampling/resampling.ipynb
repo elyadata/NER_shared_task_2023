{
 "cells": [
  {
   "cell_type": "code",
   "execution_count": 1,
   "metadata": {
    "collapsed": true,
    "ExecuteTime": {
     "end_time": "2023-07-12T11:57:06.679891758Z",
     "start_time": "2023-07-12T11:57:06.662925387Z"
    }
   },
   "outputs": [],
   "source": [
    "from adaptive_resampling import AdaptiveResampling\n",
    "from tqdm import notebook\n",
    "from resampling_methods import Methods"
   ]
  },
  {
   "cell_type": "code",
   "execution_count": 2,
   "outputs": [],
   "source": [
    "ner = AdaptiveResampling(\n",
    "    train_file_path=\"./data/wojood_flat/train.txt\",\n",
    "    resampling_directory=\"./data/wojood_flat/resampled\",\n",
    ")"
   ],
   "metadata": {
    "collapsed": false,
    "ExecuteTime": {
     "end_time": "2023-07-12T11:57:23.230923132Z",
     "start_time": "2023-07-12T11:57:23.225891529Z"
    }
   }
  },
  {
   "cell_type": "code",
   "execution_count": 4,
   "outputs": [
    {
     "data": {
      "text/plain": "Counter({'ORDINAL': 0.00802788339670469,\n         'ORG': 0.06712040557667934,\n         'MONEY': 0.0012040557667934095,\n         'EVENT': 0.015044359949302914,\n         'CURR': 6.59062103929024e-05,\n         'PERS': 0.023168567807351076,\n         'OCC': 0.03038022813688213,\n         'FAC': 0.0048212927756653996,\n         'GPE': 0.03481115335868187,\n         'DATE': 0.1257997465145754,\n         'WEBSITE': 0.004960709759188847,\n         'CARDINAL': 0.003888466413181242,\n         'NORP': 0.01567807351077313,\n         'QUANTITY': 0.00025602027883396707,\n         'PERCENT': 0.000679340937896071,\n         'LANGUAGE': 0.0003472750316856781,\n         'LOC': 0.002572877059569075,\n         'TIME': 0.001300380228136882,\n         'PRODUCT': 0.0002737642585551331,\n         'LAW': 0.0035158428390367554,\n         'UNIT': 1.7743979721166034e-05})"
     },
     "execution_count": 4,
     "metadata": {},
     "output_type": "execute_result"
    }
   ],
   "source": [
    "stats = ner.compute_statistics()\n",
    "stats"
   ],
   "metadata": {
    "collapsed": false,
    "ExecuteTime": {
     "end_time": "2023-07-12T11:57:40.654191334Z",
     "start_time": "2023-07-12T11:57:40.146337757Z"
    }
   }
  },
  {
   "cell_type": "code",
   "execution_count": 5,
   "outputs": [
    {
     "data": {
      "text/plain": "  0%|          | 0/4 [00:00<?, ?it/s]",
      "application/vnd.jupyter.widget-view+json": {
       "version_major": 2,
       "version_minor": 0,
       "model_id": "b68b1b89e2bd4515b7b189b7771f2c40"
      }
     },
     "metadata": {},
     "output_type": "display_data"
    }
   ],
   "source": [
    "for method in notebook.tqdm(Methods):\n",
    "    ner.resample(method)"
   ],
   "metadata": {
    "collapsed": false,
    "ExecuteTime": {
     "end_time": "2023-07-12T11:58:29.595274537Z",
     "start_time": "2023-07-12T11:58:20.989765983Z"
    }
   }
  }
 ],
 "metadata": {
  "kernelspec": {
   "display_name": "Python 3",
   "language": "python",
   "name": "python3"
  },
  "language_info": {
   "codemirror_mode": {
    "name": "ipython",
    "version": 2
   },
   "file_extension": ".py",
   "mimetype": "text/x-python",
   "name": "python",
   "nbconvert_exporter": "python",
   "pygments_lexer": "ipython2",
   "version": "2.7.6"
  }
 },
 "nbformat": 4,
 "nbformat_minor": 0
}
