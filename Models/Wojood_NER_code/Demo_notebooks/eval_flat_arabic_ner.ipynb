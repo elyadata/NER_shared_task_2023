{
  "cells": [
    {
      "attachments": {},
      "cell_type": "markdown",
      "metadata": {
        "colab_type": "text",
        "id": "view-in-github"
      },
      "source": [
        "<a href=\"https://colab.research.google.com/gist/mohammedkhalilia/c807eb1ccb15416b187c32a362001665/eval_flat_arabic_ner.ipynb\" target=\"_parent\"><img src=\"https://colab.research.google.com/assets/colab-badge.svg\" alt=\"Open In Colab\"/></a>"
      ]
    },
    {
      "cell_type": "code",
      "execution_count": null,
      "metadata": {
        "id": "1Ze4o3ONrfSu"
      },
      "outputs": [],
      "source": [
        "# Add the ArabicNER package to the system path\n",
        "import sys\n",
        "import argparse\n",
        "sys.path.append('..')\n",
        "# Import train function\n",
        "from arabiner.bin.eval import main as eval"
      ]
    },
    {
      "cell_type": "code",
      "execution_count": null,
      "metadata": {
        "id": "46sKrOD0rpwm"
      },
      "outputs": [],
      "source": [
        "# Setup the evaluation arguments\n",
        "args_dict = {\n",
        "    # Output path to save logs, metrics and predictions\n",
        "    \"output_path\": \"../output/\",\n",
        "\n",
        "    # train/test/validation data paths\n",
        "    # The data provided in the ArabicNER repo is a sample data\n",
        "    # data_paths takes a list of data paths in case you need to evaluate multiple datasets\n",
        "    \"data_paths\": [\" ../data/test.txt\"],\n",
        "\n",
        "    # Path to the model, this corresponds to the \"output_path\" you specified \n",
        "    # during training the model\n",
        "    \"model_path\": \"../models\",\n",
        "\n",
        "    \"batch_size\": 8\n",
        "}\n",
        "\n",
        "# Convert args dictionary to argparse namespace\n",
        "args = argparse.Namespace()\n",
        "args.__dict__ = args_dict"
      ]
    },
    {
      "cell_type": "code",
      "execution_count": null,
      "metadata": {
        "id": "2WETBJhUsMF4"
      },
      "outputs": [],
      "source": [
        "eval(args)"
      ]
    }
  ],
  "metadata": {
    "colab": {
      "include_colab_link": true,
      "provenance": []
    },
    "kernelspec": {
      "display_name": "Python 3",
      "name": "python3"
    },
    "language_info": {
      "codemirror_mode": {
        "name": "ipython",
        "version": 3
      },
      "file_extension": ".py",
      "mimetype": "text/x-python",
      "name": "python",
      "nbconvert_exporter": "python",
      "pygments_lexer": "ipython3",
      "version": "3.10.6"
    }
  },
  "nbformat": 4,
  "nbformat_minor": 0
}
