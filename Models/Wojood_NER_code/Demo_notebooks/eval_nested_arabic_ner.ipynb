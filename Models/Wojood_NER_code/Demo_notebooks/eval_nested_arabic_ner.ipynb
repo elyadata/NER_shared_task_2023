{
  "cells": [
    {
      "cell_type": "markdown",
      "metadata": {
        "colab_type": "text",
        "id": "view-in-github"
      },
      "source": [
        "<a href=\"https://colab.research.google.com/gist/mohammedkhalilia/9134510aa2684464f57de7934c97138b/eval_nested_arabic_ner.ipynb\" target=\"_parent\"><img src=\"https://colab.research.google.com/assets/colab-badge.svg\" alt=\"Open In Colab\"/></a>"
      ]
    },
    {
      "cell_type": "code",
      "execution_count": null,
      "metadata": {
        "id": "nXd1N4ZUrUfF"
      },
      "outputs": [],
      "source": [
        "# Verify that you have the GPU recognized \n",
        "!nvidia-smi     "
      ]
    },
    {
      "cell_type": "code",
      "execution_count": null,
      "metadata": {
        "id": "NtdhFLy9rbcn"
      },
      "outputs": [],
      "source": [
        "# Install dependencies\n",
        "!pip install torch==1.13.0\n",
        "!pip install transformers==4.24.0\n",
        "!pip install torchtext==0.14.0\n",
        "!pip install torchvision==0.14.0\n",
        "!pip install seqeval==1.2.2"
      ]
    },
    {
      "cell_type": "code",
      "execution_count": null,
      "metadata": {
        "id": "OiXfr7IrrdlX"
      },
      "outputs": [],
      "source": [
        "# Remove existing package and clone again from Github\n",
        "!rm -rf /content/ArabicNER\n",
        "!git clone https://github.com/SinaLab/ArabicNER.git"
      ]
    },
    {
      "cell_type": "code",
      "execution_count": null,
      "metadata": {
        "id": "1KTEw6N6tDF6"
      },
      "outputs": [],
      "source": [
        "# Remove existing ArabicNER model and clone the model huggingface repo\n",
        "!rm -rf /content/ArabicNER-Wojood\n",
        "!git clone https://huggingface.co/SinaLab/ArabicNER-Wojood"
      ]
    },
    {
      "cell_type": "code",
      "execution_count": null,
      "metadata": {
        "id": "1Ze4o3ONrfSu"
      },
      "outputs": [],
      "source": [
        "# Add the ArabicNER package to the system path\n",
        "import sys\n",
        "import argparse\n",
        "sys.path.append('/content/ArabicNER/')"
      ]
    },
    {
      "cell_type": "code",
      "execution_count": null,
      "metadata": {
        "id": "VpFoSBxXrhPW"
      },
      "outputs": [],
      "source": [
        "# Import train function\n",
        "from arabiner.bin.eval import main as eval"
      ]
    },
    {
      "cell_type": "code",
      "execution_count": null,
      "metadata": {
        "id": "46sKrOD0rpwm"
      },
      "outputs": [],
      "source": [
        "# Setup the evaluation arguments\n",
        "args_dict = {\n",
        "    # Output path to save logs, metrics and predictions\n",
        "    \"output_path\": \"/content/output/\",\n",
        "\n",
        "    # train/test/validation data paths\n",
        "    # The data provided in the ArabicNER repo is a sample data\n",
        "    # data_paths takes a list of data paths in case you need to evaluate multiple datasets\n",
        "    \"data_paths\": [\"/content/ArabicNER/data/test.txt\"],\n",
        "\n",
        "    # Path to the model, this corresponds to the \"output_path\" you specified \n",
        "    # during training the model\n",
        "    \"model_path\": \"/content/ArabicNER-Wojood/\",\n",
        "\n",
        "    \"batch_size\": 8\n",
        "}\n",
        "\n",
        "# Convert args dictionary to argparse namespace\n",
        "args = argparse.Namespace()\n",
        "args.__dict__ = args_dict"
      ]
    },
    {
      "cell_type": "code",
      "execution_count": null,
      "metadata": {
        "id": "2WETBJhUsMF4"
      },
      "outputs": [],
      "source": [
        "eval(args)"
      ]
    }
  ],
  "metadata": {
    "colab": {
      "include_colab_link": true,
      "provenance": []
    },
    "kernelspec": {
      "display_name": "Python 3",
      "name": "python3"
    },
    "language_info": {
      "name": "python"
    }
  },
  "nbformat": 4,
  "nbformat_minor": 0
}
